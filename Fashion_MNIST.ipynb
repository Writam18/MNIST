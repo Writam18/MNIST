{
  "nbformat": 4,
  "nbformat_minor": 0,
  "metadata": {
    "colab": {
      "name": "Fashion_MNIST.ipynb",
      "version": "0.3.2",
      "provenance": []
    },
    "kernelspec": {
      "name": "python3",
      "display_name": "Python 3"
    }
  },
  "cells": [
    {
      "cell_type": "code",
      "metadata": {
        "id": "dWPbqZjXH7Wi",
        "colab_type": "code",
        "colab": {}
      },
      "source": [
        "import tensorflow as tf\n",
        "import numpy as np\n",
        "import matplotlib.pyplot as plt"
      ],
      "execution_count": 0,
      "outputs": []
    },
    {
      "cell_type": "code",
      "metadata": {
        "id": "gulk18IjNDZr",
        "colab_type": "code",
        "colab": {}
      },
      "source": [
        "import keras\n",
        "from keras.models import Sequential\n",
        "from keras.layers import Dense, Dropout, Activation,Flatten\n",
        "from keras.optimizers import SGD\n",
        "from keras.layers import BatchNormalization\n",
        "from keras.layers import Conv2D, MaxPooling2D"
      ],
      "execution_count": 0,
      "outputs": []
    },
    {
      "cell_type": "code",
      "metadata": {
        "id": "oWW-vKBpG6_y",
        "colab_type": "code",
        "colab": {}
      },
      "source": [
        "from keras.datasets import fashion_mnist\n",
        "\n",
        "(x_train, y_train), (x_test, y_test) = fashion_mnist.load_data()"
      ],
      "execution_count": 0,
      "outputs": []
    },
    {
      "cell_type": "code",
      "metadata": {
        "id": "oijhBRNkHGzL",
        "colab_type": "code",
        "outputId": "bca38493-fc9b-4ec3-a3df-2409bb9806bb",
        "colab": {
          "base_uri": "https://localhost:8080/",
          "height": 33
        }
      },
      "source": [
        "type(x_train)"
      ],
      "execution_count": 0,
      "outputs": [
        {
          "output_type": "execute_result",
          "data": {
            "text/plain": [
              "numpy.ndarray"
            ]
          },
          "metadata": {
            "tags": []
          },
          "execution_count": 31
        }
      ]
    },
    {
      "cell_type": "code",
      "metadata": {
        "id": "c3chE4tWHOj-",
        "colab_type": "code",
        "outputId": "f2acfb79-78b4-4ef5-89cd-0acc3bc62507",
        "colab": {
          "base_uri": "https://localhost:8080/",
          "height": 286
        }
      },
      "source": [
        "plt.imshow(x_train[4])"
      ],
      "execution_count": 0,
      "outputs": [
        {
          "output_type": "execute_result",
          "data": {
            "text/plain": [
              "<matplotlib.image.AxesImage at 0x7f4c6117fef0>"
            ]
          },
          "metadata": {
            "tags": []
          },
          "execution_count": 32
        },
        {
          "output_type": "display_data",
          "data": {
            "image/png": "[encoded data removed]",
            "text/plain": [
              "<Figure size 432x288 with 1 Axes>"
            ]
          },
          "metadata": {
            "tags": []
          }
        }
      ]
    },
    {
      "cell_type": "code",
      "metadata": {
        "id": "exIsYYRmIEvm",
        "colab_type": "code",
        "outputId": "63768089-0e19-4485-9f1f-14a73ed49500",
        "colab": {
          "base_uri": "https://localhost:8080/",
          "height": 33
        }
      },
      "source": [
        "x_train.shape"
      ],
      "execution_count": 0,
      "outputs": [
        {
          "output_type": "execute_result",
          "data": {
            "text/plain": [
              "(60000, 28, 28)"
            ]
          },
          "metadata": {
            "tags": []
          },
          "execution_count": 33
        }
      ]
    },
    {
      "cell_type": "code",
      "metadata": {
        "id": "6At8yEkOTzcT",
        "colab_type": "code",
        "outputId": "6b40e69a-8506-4ac9-cb82-b6ac35b0f2cb",
        "colab": {
          "base_uri": "https://localhost:8080/",
          "height": 33
        }
      },
      "source": [
        "x_test.shape"
      ],
      "execution_count": 0,
      "outputs": [
        {
          "output_type": "execute_result",
          "data": {
            "text/plain": [
              "(10000, 28, 28)"
            ]
          },
          "metadata": {
            "tags": []
          },
          "execution_count": 47
        }
      ]
    },
    {
      "cell_type": "code",
      "metadata": {
        "id": "X3rxfCJ5NoDA",
        "colab_type": "code",
        "colab": {}
      },
      "source": [
        "x_train_reshape=x_train.reshape(60000,-1)"
      ],
      "execution_count": 0,
      "outputs": []
    },
    {
      "cell_type": "code",
      "metadata": {
        "id": "vArKaQH1PbTJ",
        "colab_type": "code",
        "outputId": "9495e715-e4ad-4a1b-8cd8-f4873839bbde",
        "colab": {
          "base_uri": "https://localhost:8080/",
          "height": 33
        }
      },
      "source": [
        "x_train_reshape.shape"
      ],
      "execution_count": 0,
      "outputs": [
        {
          "output_type": "execute_result",
          "data": {
            "text/plain": [
              "(60000, 784)"
            ]
          },
          "metadata": {
            "tags": []
          },
          "execution_count": 35
        }
      ]
    },
    {
      "cell_type": "code",
      "metadata": {
        "id": "jw7zLoeqVqeQ",
        "colab_type": "code",
        "colab": {}
      },
      "source": [
        "x_test_reshape=x_test.reshape(10000,-1)"
      ],
      "execution_count": 0,
      "outputs": []
    },
    {
      "cell_type": "code",
      "metadata": {
        "id": "s_ZgBm95WyQK",
        "colab_type": "code",
        "outputId": "4d9cafcd-8fc7-46e2-b3e0-bfbcb9c5e727",
        "colab": {
          "base_uri": "https://localhost:8080/",
          "height": 33
        }
      },
      "source": [
        "x_test_reshape.shape"
      ],
      "execution_count": 0,
      "outputs": [
        {
          "output_type": "execute_result",
          "data": {
            "text/plain": [
              "(10000, 784)"
            ]
          },
          "metadata": {
            "tags": []
          },
          "execution_count": 56
        }
      ]
    },
    {
      "cell_type": "code",
      "metadata": {
        "id": "OJxGuBubOVic",
        "colab_type": "code",
        "outputId": "15b0bc65-21a2-402a-eaea-0746c9d70894",
        "colab": {
          "base_uri": "https://localhost:8080/",
          "height": 33
        }
      },
      "source": [
        "y_train.shape"
      ],
      "execution_count": 0,
      "outputs": [
        {
          "output_type": "execute_result",
          "data": {
            "text/plain": [
              "(60000,)"
            ]
          },
          "metadata": {
            "tags": []
          },
          "execution_count": 36
        }
      ]
    },
    {
      "cell_type": "code",
      "metadata": {
        "id": "D6cUkyQsJ8gq",
        "colab_type": "code",
        "outputId": "0b1d64a0-c5c7-4c69-8ae8-18fea7c4f730",
        "colab": {
          "base_uri": "https://localhost:8080/",
          "height": 33
        }
      },
      "source": [
        "y_train"
      ],
      "execution_count": 0,
      "outputs": [
        {
          "output_type": "execute_result",
          "data": {
            "text/plain": [
              "array([9, 0, 0, ..., 3, 0, 5], dtype=uint8)"
            ]
          },
          "metadata": {
            "tags": []
          },
          "execution_count": 37
        }
      ]
    },
    {
      "cell_type": "code",
      "metadata": {
        "id": "vtQA6v-aKBBh",
        "colab_type": "code",
        "colab": {}
      },
      "source": [
        "y_train = keras.utils.to_categorical(y_train, num_classes=10)\n",
        "y_test = keras.utils.to_categorical(y_test, num_classes=10)"
      ],
      "execution_count": 0,
      "outputs": []
    },
    {
      "cell_type": "code",
      "metadata": {
        "id": "L5E7K79YNVSe",
        "colab_type": "code",
        "outputId": "79775836-3564-40a7-b855-90974093e501",
        "colab": {
          "base_uri": "https://localhost:8080/",
          "height": 134
        }
      },
      "source": [
        "y_train"
      ],
      "execution_count": 0,
      "outputs": [
        {
          "output_type": "execute_result",
          "data": {
            "text/plain": [
              "array([[0., 0., 0., ..., 0., 0., 1.],\n",
              "       [1., 0., 0., ..., 0., 0., 0.],\n",
              "       [1., 0., 0., ..., 0., 0., 0.],\n",
              "       ...,\n",
              "       [0., 0., 0., ..., 0., 0., 0.],\n",
              "       [1., 0., 0., ..., 0., 0., 0.],\n",
              "       [0., 0., 0., ..., 0., 0., 0.]], dtype=float32)"
            ]
          },
          "metadata": {
            "tags": []
          },
          "execution_count": 39
        }
      ]
    },
    {
      "cell_type": "code",
      "metadata": {
        "id": "qeBwwz-ONXnX",
        "colab_type": "code",
        "colab": {}
      },
      "source": [
        "model = Sequential()\n",
        "model.add(Dense(32, activation='relu',input_shape=(784,)))\n",
        "model.add(BatchNormalization())\n",
        "model.add(Dense(32, activation='relu'))\n",
        "model.add(BatchNormalization())\n",
        "model.add(Dense(16, activation='relu'))\n",
        "model.add(Dropout(0.5))\n",
        "model.add(Dense(10, activation='softmax'))"
      ],
      "execution_count": 0,
      "outputs": []
    },
    {
      "cell_type": "code",
      "metadata": {
        "id": "d5-n13E8Nsd5",
        "colab_type": "code",
        "colab": {}
      },
      "source": [
        "model.compile(loss='categorical_crossentropy',\n",
        "              optimizer='adam',\n",
        "              metrics=['accuracy'])"
      ],
      "execution_count": 0,
      "outputs": []
    },
    {
      "cell_type": "code",
      "metadata": {
        "id": "lXVHGG4PNyTF",
        "colab_type": "code",
        "outputId": "78dc1d4d-5240-4050-ba9d-9de306777aef",
        "colab": {
          "base_uri": "https://localhost:8080/",
          "height": 1000
        }
      },
      "source": [
        "history=model.fit(x_train_reshape, y_train,epochs=100,batch_size=128)"
      ],
      "execution_count": 0,
      "outputs": [
        {
          "output_type": "stream",
          "text": [
            "Epoch 1/100\n",
            "60000/60000 [==============================] - 3s 50us/step - loss: 1.1602 - acc: 0.5873\n",
            "Epoch 2/100\n",
            "60000/60000 [==============================] - 2s 32us/step - loss: 0.7964 - acc: 0.7133\n",
            "Epoch 3/100\n",
            "60000/60000 [==============================] - 2s 33us/step - loss: 0.7306 - acc: 0.7396\n",
            "Epoch 4/100\n",
            "60000/60000 [==============================] - 2s 32us/step - loss: 0.6931 - acc: 0.7504\n",
            "Epoch 5/100\n",
            "60000/60000 [==============================] - 2s 33us/step - loss: 0.6668 - acc: 0.7592\n",
            "Epoch 6/100\n",
            "60000/60000 [==============================] - 2s 33us/step - loss: 0.6460 - acc: 0.7666\n",
            "Epoch 7/100\n",
            "60000/60000 [==============================] - 2s 32us/step - loss: 0.6310 - acc: 0.7723\n",
            "Epoch 8/100\n",
            "60000/60000 [==============================] - 2s 32us/step - loss: 0.6172 - acc: 0.7768\n",
            "Epoch 9/100\n",
            "60000/60000 [==============================] - 2s 32us/step - loss: 0.6056 - acc: 0.7801\n",
            "Epoch 10/100\n",
            "60000/60000 [==============================] - 2s 33us/step - loss: 0.6024 - acc: 0.7815\n",
            "Epoch 11/100\n",
            "60000/60000 [==============================] - 2s 32us/step - loss: 0.5879 - acc: 0.7862\n",
            "Epoch 12/100\n",
            "60000/60000 [==============================] - 2s 33us/step - loss: 0.5932 - acc: 0.7856\n",
            "Epoch 13/100\n",
            "60000/60000 [==============================] - 2s 32us/step - loss: 0.5833 - acc: 0.7886\n",
            "Epoch 14/100\n",
            "60000/60000 [==============================] - 2s 31us/step - loss: 0.5809 - acc: 0.7872\n",
            "Epoch 15/100\n",
            "60000/60000 [==============================] - 2s 31us/step - loss: 0.5755 - acc: 0.7889\n",
            "Epoch 16/100\n",
            "60000/60000 [==============================] - 2s 33us/step - loss: 0.5721 - acc: 0.7910\n",
            "Epoch 17/100\n",
            "60000/60000 [==============================] - 2s 33us/step - loss: 0.5701 - acc: 0.7934\n",
            "Epoch 18/100\n",
            "60000/60000 [==============================] - 2s 33us/step - loss: 0.5555 - acc: 0.7976\n",
            "Epoch 19/100\n",
            "60000/60000 [==============================] - 2s 33us/step - loss: 0.5591 - acc: 0.7949\n",
            "Epoch 20/100\n",
            "60000/60000 [==============================] - 2s 34us/step - loss: 0.5456 - acc: 0.8007\n",
            "Epoch 21/100\n",
            "60000/60000 [==============================] - 2s 33us/step - loss: 0.5462 - acc: 0.8003\n",
            "Epoch 22/100\n",
            "60000/60000 [==============================] - 2s 32us/step - loss: 0.5357 - acc: 0.8025\n",
            "Epoch 23/100\n",
            "60000/60000 [==============================] - 2s 32us/step - loss: 0.5351 - acc: 0.8024\n",
            "Epoch 24/100\n",
            "60000/60000 [==============================] - 2s 33us/step - loss: 0.5304 - acc: 0.8047\n",
            "Epoch 25/100\n",
            "60000/60000 [==============================] - 2s 32us/step - loss: 0.5267 - acc: 0.8056\n",
            "Epoch 26/100\n",
            "60000/60000 [==============================] - 2s 33us/step - loss: 0.5275 - acc: 0.8061\n",
            "Epoch 27/100\n",
            "60000/60000 [==============================] - 2s 32us/step - loss: 0.5193 - acc: 0.8106\n",
            "Epoch 28/100\n",
            "60000/60000 [==============================] - 2s 32us/step - loss: 0.5234 - acc: 0.8098\n",
            "Epoch 29/100\n",
            "60000/60000 [==============================] - 2s 32us/step - loss: 0.5228 - acc: 0.8077\n",
            "Epoch 30/100\n",
            "60000/60000 [==============================] - 2s 32us/step - loss: 0.5201 - acc: 0.8077\n",
            "Epoch 31/100\n",
            "60000/60000 [==============================] - 2s 32us/step - loss: 0.5227 - acc: 0.8076\n",
            "Epoch 32/100\n",
            "60000/60000 [==============================] - 2s 32us/step - loss: 0.5168 - acc: 0.8101\n",
            "Epoch 33/100\n",
            "60000/60000 [==============================] - 2s 32us/step - loss: 0.5140 - acc: 0.8113\n",
            "Epoch 34/100\n",
            "60000/60000 [==============================] - 2s 33us/step - loss: 0.5100 - acc: 0.8132\n",
            "Epoch 35/100\n",
            "60000/60000 [==============================] - 2s 34us/step - loss: 0.5160 - acc: 0.8122\n",
            "Epoch 36/100\n",
            "60000/60000 [==============================] - 2s 33us/step - loss: 0.5035 - acc: 0.8153\n",
            "Epoch 37/100\n",
            "60000/60000 [==============================] - 2s 32us/step - loss: 0.4979 - acc: 0.8173\n",
            "Epoch 38/100\n",
            "60000/60000 [==============================] - 2s 32us/step - loss: 0.5028 - acc: 0.8166\n",
            "Epoch 39/100\n",
            "60000/60000 [==============================] - 2s 33us/step - loss: 0.4993 - acc: 0.8176\n",
            "Epoch 40/100\n",
            "60000/60000 [==============================] - 2s 33us/step - loss: 0.4958 - acc: 0.8189\n",
            "Epoch 41/100\n",
            "60000/60000 [==============================] - 2s 29us/step - loss: 0.4907 - acc: 0.8209\n",
            "Epoch 42/100\n",
            "60000/60000 [==============================] - 2s 29us/step - loss: 0.4906 - acc: 0.8224\n",
            "Epoch 43/100\n",
            "60000/60000 [==============================] - 2s 29us/step - loss: 0.4886 - acc: 0.8230\n",
            "Epoch 44/100\n",
            "60000/60000 [==============================] - 2s 30us/step - loss: 0.4775 - acc: 0.8267\n",
            "Epoch 45/100\n",
            "60000/60000 [==============================] - 2s 32us/step - loss: 0.4868 - acc: 0.8232\n",
            "Epoch 46/100\n",
            "60000/60000 [==============================] - 2s 33us/step - loss: 0.4835 - acc: 0.8252\n",
            "Epoch 47/100\n",
            "60000/60000 [==============================] - 2s 34us/step - loss: 0.4842 - acc: 0.8235\n",
            "Epoch 48/100\n",
            "60000/60000 [==============================] - 2s 35us/step - loss: 0.4792 - acc: 0.8268\n",
            "Epoch 49/100\n",
            "60000/60000 [==============================] - 2s 34us/step - loss: 0.4817 - acc: 0.8265\n",
            "Epoch 50/100\n",
            "60000/60000 [==============================] - 2s 32us/step - loss: 0.4783 - acc: 0.8274\n",
            "Epoch 51/100\n",
            "60000/60000 [==============================] - 2s 33us/step - loss: 0.4809 - acc: 0.8263\n",
            "Epoch 52/100\n",
            "60000/60000 [==============================] - 2s 32us/step - loss: 0.4836 - acc: 0.8250\n",
            "Epoch 53/100\n",
            "60000/60000 [==============================] - 2s 32us/step - loss: 0.4718 - acc: 0.8292\n",
            "Epoch 54/100\n",
            "60000/60000 [==============================] - 2s 33us/step - loss: 0.4730 - acc: 0.8282\n",
            "Epoch 55/100\n",
            "60000/60000 [==============================] - 2s 32us/step - loss: 0.4777 - acc: 0.8284\n",
            "Epoch 56/100\n",
            "60000/60000 [==============================] - 2s 33us/step - loss: 0.4665 - acc: 0.8312\n",
            "Epoch 57/100\n",
            "60000/60000 [==============================] - 2s 33us/step - loss: 0.4724 - acc: 0.8289\n",
            "Epoch 58/100\n",
            "60000/60000 [==============================] - 2s 33us/step - loss: 0.4712 - acc: 0.8283\n",
            "Epoch 59/100\n",
            "60000/60000 [==============================] - 2s 33us/step - loss: 0.4650 - acc: 0.8319\n",
            "Epoch 60/100\n",
            "60000/60000 [==============================] - 2s 32us/step - loss: 0.4654 - acc: 0.8313\n",
            "Epoch 61/100\n",
            "60000/60000 [==============================] - 2s 33us/step - loss: 0.4623 - acc: 0.8350\n",
            "Epoch 62/100\n",
            "60000/60000 [==============================] - 2s 33us/step - loss: 0.4638 - acc: 0.8326\n",
            "Epoch 63/100\n",
            "60000/60000 [==============================] - 2s 33us/step - loss: 0.4632 - acc: 0.8333\n",
            "Epoch 64/100\n",
            "60000/60000 [==============================] - 2s 33us/step - loss: 0.4620 - acc: 0.8351\n",
            "Epoch 65/100\n",
            "60000/60000 [==============================] - 2s 33us/step - loss: 0.4560 - acc: 0.8359\n",
            "Epoch 66/100\n",
            "60000/60000 [==============================] - 2s 33us/step - loss: 0.4562 - acc: 0.8374\n",
            "Epoch 67/100\n",
            "60000/60000 [==============================] - 2s 33us/step - loss: 0.4575 - acc: 0.8358\n",
            "Epoch 68/100\n",
            "60000/60000 [==============================] - 2s 33us/step - loss: 0.4641 - acc: 0.8340\n",
            "Epoch 69/100\n",
            "60000/60000 [==============================] - 2s 32us/step - loss: 0.4617 - acc: 0.8342\n",
            "Epoch 70/100\n",
            "60000/60000 [==============================] - 2s 33us/step - loss: 0.4584 - acc: 0.8351\n",
            "Epoch 71/100\n",
            "60000/60000 [==============================] - 2s 33us/step - loss: 0.4498 - acc: 0.8394\n",
            "Epoch 72/100\n",
            "60000/60000 [==============================] - 2s 32us/step - loss: 0.4554 - acc: 0.8379\n",
            "Epoch 73/100\n",
            "60000/60000 [==============================] - 2s 33us/step - loss: 0.4486 - acc: 0.8369\n",
            "Epoch 74/100\n",
            "60000/60000 [==============================] - 2s 32us/step - loss: 0.4512 - acc: 0.8384\n",
            "Epoch 75/100\n",
            "60000/60000 [==============================] - 2s 32us/step - loss: 0.4476 - acc: 0.8387\n",
            "Epoch 76/100\n",
            "60000/60000 [==============================] - 2s 32us/step - loss: 0.4431 - acc: 0.8416\n",
            "Epoch 77/100\n",
            "60000/60000 [==============================] - 2s 32us/step - loss: 0.4569 - acc: 0.8359\n",
            "Epoch 78/100\n",
            "60000/60000 [==============================] - 2s 33us/step - loss: 0.4479 - acc: 0.8393\n",
            "Epoch 79/100\n",
            "60000/60000 [==============================] - 2s 32us/step - loss: 0.4412 - acc: 0.8439\n",
            "Epoch 80/100\n",
            "60000/60000 [==============================] - 2s 30us/step - loss: 0.4440 - acc: 0.8408\n",
            "Epoch 81/100\n",
            "60000/60000 [==============================] - 2s 29us/step - loss: 0.4444 - acc: 0.8418\n",
            "Epoch 82/100\n",
            "60000/60000 [==============================] - 2s 30us/step - loss: 0.4446 - acc: 0.8421\n",
            "Epoch 83/100\n",
            "60000/60000 [==============================] - 2s 30us/step - loss: 0.4431 - acc: 0.8413\n",
            "Epoch 84/100\n",
            "60000/60000 [==============================] - 2s 33us/step - loss: 0.4454 - acc: 0.8438\n",
            "Epoch 85/100\n",
            "60000/60000 [==============================] - 2s 34us/step - loss: 0.4358 - acc: 0.8448\n",
            "Epoch 86/100\n",
            "60000/60000 [==============================] - 2s 33us/step - loss: 0.4374 - acc: 0.8452\n",
            "Epoch 87/100\n",
            "60000/60000 [==============================] - 2s 33us/step - loss: 0.4432 - acc: 0.8440\n",
            "Epoch 88/100\n",
            "60000/60000 [==============================] - 2s 33us/step - loss: 0.4357 - acc: 0.8471\n",
            "Epoch 89/100\n",
            "60000/60000 [==============================] - 2s 34us/step - loss: 0.4396 - acc: 0.8460\n",
            "Epoch 90/100\n",
            "60000/60000 [==============================] - 2s 34us/step - loss: 0.4314 - acc: 0.8490\n",
            "Epoch 91/100\n",
            "60000/60000 [==============================] - 2s 33us/step - loss: 0.4318 - acc: 0.8473\n",
            "Epoch 92/100\n",
            "60000/60000 [==============================] - 2s 33us/step - loss: 0.4295 - acc: 0.8487\n",
            "Epoch 93/100\n",
            "60000/60000 [==============================] - 2s 33us/step - loss: 0.4321 - acc: 0.8474\n",
            "Epoch 94/100\n",
            "60000/60000 [==============================] - 2s 33us/step - loss: 0.4342 - acc: 0.8474\n",
            "Epoch 95/100\n",
            "60000/60000 [==============================] - 2s 34us/step - loss: 0.4355 - acc: 0.8484\n",
            "Epoch 96/100\n",
            "60000/60000 [==============================] - 2s 33us/step - loss: 0.4311 - acc: 0.8495\n",
            "Epoch 97/100\n",
            "60000/60000 [==============================] - 2s 33us/step - loss: 0.4350 - acc: 0.8479\n",
            "Epoch 98/100\n",
            "60000/60000 [==============================] - 2s 33us/step - loss: 0.4339 - acc: 0.8494\n",
            "Epoch 99/100\n",
            "60000/60000 [==============================] - 2s 33us/step - loss: 0.4295 - acc: 0.8498\n",
            "Epoch 100/100\n",
            "60000/60000 [==============================] - 2s 33us/step - loss: 0.4342 - acc: 0.8502\n"
          ],
          "name": "stdout"
        }
      ]
    },
    {
      "cell_type": "code",
      "metadata": {
        "id": "iJDmOyu3N9fY",
        "colab_type": "code",
        "outputId": "cf047013-4c63-4e14-c7f4-6864be6f48a7",
        "colab": {
          "base_uri": "https://localhost:8080/",
          "height": 33
        }
      },
      "source": [
        "score = model.evaluate(x_test_reshape, y_test, batch_size=128)"
      ],
      "execution_count": 0,
      "outputs": [
        {
          "output_type": "stream",
          "text": [
            "10000/10000 [==============================] - 0s 38us/step\n"
          ],
          "name": "stdout"
        }
      ]
    },
    {
      "cell_type": "code",
      "metadata": {
        "id": "Rjoww1jRXKJU",
        "colab_type": "code",
        "outputId": "d0f74543-6384-438f-d16b-c7a1335989bc",
        "colab": {
          "base_uri": "https://localhost:8080/",
          "height": 33
        }
      },
      "source": [
        "score"
      ],
      "execution_count": 0,
      "outputs": [
        {
          "output_type": "execute_result",
          "data": {
            "text/plain": [
              "[0.4436765860557556, 0.865]"
            ]
          },
          "metadata": {
            "tags": []
          },
          "execution_count": 58
        }
      ]
    },
    {
      "cell_type": "code",
      "metadata": {
        "id": "SNljiIAZfjkM",
        "colab_type": "code",
        "colab": {}
      },
      "source": [
        "x_train_reshape=x_train.reshape(60000,28,28,1)\n",
        "x_test_reshape=x_test.reshape(10000,28,28,1)"
      ],
      "execution_count": 0,
      "outputs": []
    },
    {
      "cell_type": "code",
      "metadata": {
        "id": "TYBtp-lLfynl",
        "colab_type": "code",
        "outputId": "3e4a6fd5-c9da-4f66-ab7f-4ab1a5e554f8",
        "colab": {
          "base_uri": "https://localhost:8080/",
          "height": 33
        }
      },
      "source": [
        "x_test_reshape.shape"
      ],
      "execution_count": 0,
      "outputs": [
        {
          "output_type": "execute_result",
          "data": {
            "text/plain": [
              "(10000, 28, 28, 1)"
            ]
          },
          "metadata": {
            "tags": []
          },
          "execution_count": 70
        }
      ]
    },
    {
      "cell_type": "code",
      "metadata": {
        "id": "3FJ6yToMXPDF",
        "colab_type": "code",
        "colab": {}
      },
      "source": [
        "model = Sequential()\n",
        "model.add(Conv2D(32, kernel_size=(3, 3),activation='relu',kernel_initializer='he_normal',input_shape=(28,28,1)))\n",
        "model.add(BatchNormalization())\n",
        "model.add(MaxPooling2D((2, 2)))\n",
        "\n",
        "model.add(Conv2D(64,kernel_size=(3, 3),activation='relu'))\n",
        "model.add(BatchNormalization())\n",
        "model.add(MaxPooling2D(pool_size=(2, 2)))\n",
        "\n",
        "model.add(Conv2D(128, (3, 3), activation='relu'))\n",
        "model.add(Flatten())\n",
        "model.add(Dense(128, activation='relu'))\n",
        "model.add(Dropout(0.5))\n",
        "model.add(Dense(10, activation='softmax'))"
      ],
      "execution_count": 0,
      "outputs": []
    },
    {
      "cell_type": "code",
      "metadata": {
        "id": "gwSEKbMidP0Y",
        "colab_type": "code",
        "colab": {}
      },
      "source": [
        "model.compile(loss='categorical_crossentropy',\n",
        "              optimizer='adam',\n",
        "              metrics=['accuracy'])"
      ],
      "execution_count": 0,
      "outputs": []
    },
    {
      "cell_type": "code",
      "metadata": {
        "id": "d7ZZ9QFedkHd",
        "colab_type": "code",
        "outputId": "64c728ef-5e48-4ff4-8a64-753982fa0ae0",
        "colab": {
          "base_uri": "https://localhost:8080/",
          "height": 351
        }
      },
      "source": [
        "history=model.fit(x_train_reshape, y_train,epochs=10,batch_size=128)"
      ],
      "execution_count": 0,
      "outputs": [
        {
          "output_type": "stream",
          "text": [
            "Epoch 1/10\n",
            "60000/60000 [==============================] - 100s 2ms/step - loss: 0.2863 - acc: 0.8974\n",
            "Epoch 2/10\n",
            "60000/60000 [==============================] - 100s 2ms/step - loss: 0.2482 - acc: 0.9097\n",
            "Epoch 3/10\n",
            "60000/60000 [==============================] - 100s 2ms/step - loss: 0.2199 - acc: 0.9191\n",
            "Epoch 4/10\n",
            "60000/60000 [==============================] - 100s 2ms/step - loss: 0.1994 - acc: 0.9258\n",
            "Epoch 5/10\n",
            "60000/60000 [==============================] - 100s 2ms/step - loss: 0.1789 - acc: 0.9331\n",
            "Epoch 6/10\n",
            "60000/60000 [==============================] - 101s 2ms/step - loss: 0.1627 - acc: 0.9380\n",
            "Epoch 7/10\n",
            "60000/60000 [==============================] - 99s 2ms/step - loss: 0.1488 - acc: 0.9443\n",
            "Epoch 8/10\n",
            "60000/60000 [==============================] - 99s 2ms/step - loss: 0.1342 - acc: 0.9496\n",
            "Epoch 9/10\n",
            "60000/60000 [==============================] - 100s 2ms/step - loss: 0.1236 - acc: 0.9529\n",
            "Epoch 10/10\n",
            "60000/60000 [==============================] - 99s 2ms/step - loss: 0.1139 - acc: 0.9571\n"
          ],
          "name": "stdout"
        }
      ]
    },
    {
      "cell_type": "code",
      "metadata": {
        "id": "M_qamP85lXuz",
        "colab_type": "code",
        "outputId": "11081649-8258-4ba4-9bd0-ab2ca138440b",
        "colab": {
          "base_uri": "https://localhost:8080/",
          "height": 50
        }
      },
      "source": [
        "model.evaluate(x_test_reshape, y_test, batch_size=128)"
      ],
      "execution_count": 0,
      "outputs": [
        {
          "output_type": "stream",
          "text": [
            "10000/10000 [==============================] - 6s 620us/step\n"
          ],
          "name": "stdout"
        },
        {
          "output_type": "execute_result",
          "data": {
            "text/plain": [
              "[0.3084359941482544, 0.9095]"
            ]
          },
          "metadata": {
            "tags": []
          },
          "execution_count": 74
        }
      ]
    },
    {
      "cell_type": "code",
      "metadata": {
        "id": "_0pROUfPlsV0",
        "colab_type": "code",
        "colab": {}
      },
      "source": [
        ""
      ],
      "execution_count": 0,
      "outputs": []
    }
  ]
}